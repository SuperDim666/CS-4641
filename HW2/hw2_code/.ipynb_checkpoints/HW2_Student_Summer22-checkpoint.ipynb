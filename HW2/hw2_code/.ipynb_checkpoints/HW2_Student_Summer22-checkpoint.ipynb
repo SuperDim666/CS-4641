{
 "cells": [
  {
   "cell_type": "markdown",
   "metadata": {
    "id": "xs9yYSRW_Mvs"
   },
   "source": [
    "## Summer 2022 CS4641/CS7641 A Homework 2\n",
    "\n",
    "## Instructor: Dr. Mahdi Roozbahani\n",
    "\n",
    "## Deadline: Monday, June 27th, 11:59 pm AOE\n",
    "\n",
    "<!-- No changes needed on the below section -->\n",
    "* No unapproved extension of the deadline is allowed. Late submission will lead to 0 credit. \n",
    "\n",
    "* Discussion is encouraged on Ed as part of the Q/A. However, all assignments should be done individually.\n",
    "<font color='darkred'>\n",
    "* Plagiarism is a **serious offense**. You are responsible for completing your own work. You are not allowed to copy and paste, or paraphrase, or submit materials created or published by others, as if you created the materials. All materials submitted must be your own.</font>\n",
    "<font color='darkred'>\n",
    "* All incidents of suspected dishonesty, plagiarism, or violations of the Georgia Tech Honor Code will be subject to the institute’s Academic Integrity procedures. If we observe any (even small) similarities/plagiarisms detected by Gradescope or our TAs, **WE WILL DIRECTLY REPORT ALL CASES TO OSI**, which may, unfortunately, lead to a very harsh outcome. **Consequences can be severe, e.g., academic probation or dismissal, grade penalties, a 0 grade for assignments concerned, and prohibition from withdrawing from the class.**\n",
    "</font>\n"
   ]
  },
  {
   "cell_type": "markdown",
   "metadata": {
    "id": "uI6nZBMF_Mvw"
   },
   "source": [
    "## Instructions for the assignment \n",
    "\n",
    "<!-- No changes needed on the below section -->\n",
    "- This assignment consists of both programming and theory questions.\n",
    "\n",
    "- Unless a theory question explicitly states that no work is required to be shown,  you must provide an explanation, justification, or calculation for your answer.\n",
    "\n",
    "- To switch between cell for code and for markdown, see the menu -> Cell -> Cell Type\n",
    "    \n",
    "- You can directly type Latex equations into markdown cells.\n",
    "    \n",
    "- If a question requires a picture, you could use this syntax `<img src=\"\" style=\"width: 300px;\"/>` to include them within your ipython notebook.\n",
    "\n",
    "- Your write up must be submitted in PDF form. You may use either Latex,  markdown, or any word processing software. <font color = 'darkred'>We will **NOT** accept handwritten work. </font> Make sure that your work is formatted correctly, for example submit $\\sum_{i=0} x_i$ instead of \\text{sum\\_\\{i=0\\} x\\_i}\n",
    "- When submitting the non-programming part of your assignment, you must correctly map pages of your PDF to each question/subquestion to reflect where they appear. <font color='darkred'>**Improperly mapped questions may not be graded correctly and/or will result in point deductions for the error.**</font>\n",
    "- All assignments should be done individually, and each student must write up and submit their own answers.\n",
    "- **Graduate Students**: You are required to complete any sections marked as Bonus for Undergrads  "
   ]
  },
  {
   "cell_type": "markdown",
   "metadata": {
    "id": "g7stIuyo_Mvx"
   },
   "source": [
    "## Using the autograder\n",
    "\n",
    "- You will find three assignments on Gradescope that correspond to HW2: \"Assignment 2 Programming\", \"Assignment 2 - Non-programming\" and \"Assignment 2 Programming - Bonus for all\". \n",
    "\n",
    "<!-- No changes needed on the below section -->\n",
    "- You will submit your code for the autograder in the Assignment 2 Programming sections. Please refer to the Deliverables and Point Distribution section for what parts are considered required, bonus for undergrads, and bonus for all.\n",
    "\n",
    "- We provided you different .py files and we added libraries in those files please DO NOT remove those lines and add your code after those lines. Note that these are the only allowed libraries that you can use for the homework.\n",
    "\n",
    "- You are allowed to make as many submissions until the deadline as you like. Additionally, note that the autograder tests each function separately, therefore it can serve as a useful tool to help you debug your code if you are not sure of what part of your implementation might have an issue.\n",
    "<!-- No changes needed on the above section -->\n",
    "\n",
    "- **For the \"Assignment 2 - Non-programming\" part, you will download your Jupyter Notebook as html and submit it as a PDF on Gradescope. To download the notebook as html, click on \"File\" on the top left corner of this page and select \"Download as > html\". Then, open the html file and print to PDF.**  Please refer to the Deliverables and Point Distribution section for an outline of the non-programming questions.\n",
    "- **When submitting to Gradescope, please make sure to mark the page(s) corresponding to each problem/sub-problem. The pages in the PDF should be of size 8.5\" x 11\", otherwise there may be a deduction in points for extra long sheets.**"
   ]
  },
  {
   "cell_type": "markdown",
   "metadata": {
    "id": "_Nz2030u_Mvy"
   },
   "source": [
    "## Deliverables and Points Distribution \n",
    "\n",
    "### Q1: KMeans Clustering & DBScan [55 pts + 10 pts Bonus for Undergrad ]\n",
    "#### Deliverables: <font color = 'green'>kmeans.py, dbscan.py, and Written Report</font>\n",
    "\n",
    "- **pairwise_dist** [5 pts] - *programming*\n",
    "\n",
    "- **KMeans Implementation** [35pts] - _programming_\n",
    "\n",
    "    - _init_centers [5pts]\n",
    "\n",
    "    - _update_assignment [10pts]\n",
    "\n",
    "    - _update_centers [10pts]\n",
    "\n",
    "    - _get_loss function [5pts]\n",
    "    \n",
    "    - _test_centers (Additional Autograder Tests - no need to implement) [5pts]\n",
    "- **Elbow Method** [15 pts]\n",
    "\n",
    "    - find_num_optimal_clusters [10pts] - *programming*\n",
    "\n",
    "    - written questions [5pts] - _non-programming_\n",
    "\n",
    "- **DBScan** [10 pts] - *programming* **BONUS FOR UNDERGRAD**\n",
    "\n",
    "    - regionQuery [2pts]\n",
    "\n",
    "    - expandClusters [4pts]\n",
    "\n",
    "    - fit [4pts]\n",
    "\n",
    "### Q2: EM Algorithm [10pts]\n",
    "#### Deliverables: <font color = 'green'>Written Report</font>\n",
    "\n",
    "- **2.1 E-Step** [10 pts] - *non-programming*\n",
    "    - 2.1.1 [5pts] - *non-programming*\n",
    "\n",
    "    - 2.1.2 [5pts] - *non-programming*\n",
    "\n",
    "\n",
    "### Q3: GMM implementation [55pts; 5pts Bonus for All] \n",
    "#### Deliverables: <font color = 'green'>gmm.py and Written Report</font>\n",
    "\n",
    "- 3.1 Helper Functions [15pts] - *programming & non-programming*\n",
    "\n",
    "    - 3.1.1. softmax [5pts]\n",
    "\n",
    "    - 3.1.2. logsumexp [3pts + 2pts] - *programming & non-programming*\n",
    "\n",
    "    - 3.1.3. normalPDF [5pts] - *for CS4641 students only*\n",
    "\n",
    "    - 3.1.3. multinormalPDF [5pts] - *for CS7641 students only*\n",
    "\n",
    "- 3.2 GMM Implementation [30pts] - *programming*\n",
    "\n",
    "    - 3.2.1. init_components [5pts]\n",
    "\n",
    "    - 3.2.2. _ll_joint [10pts]\n",
    "\n",
    "    - 3.2.3. Setup iterative steps for EM algorithm [15pts]\n",
    "    \n",
    "- 3.3 Image Compression and Pixel clustering [10pts] - *non-programming*\n",
    "- 3.4 Compare Full Convariance Matrix with Diagonal Covariance Matrix [5pts Bonus for All]\n",
    "\n",
    "### Q4: Cleaning Super Duper Messy data with semi-supervised learning [30pts Bonus for All] \n",
    "#### Deliverables: <font color = 'green'>semisupervised.py and Written Report</font>\n",
    "\n",
    "- 4.1: KNN [10pts] - *programming*\n",
    "    \n",
    "    - 4.1.a. complete_, incomplete_, unlabeled_ [3pts]\n",
    "    \n",
    "    - 4.1.b. CleanData \\_\\_call\\_\\_ [7pts]\n",
    "\n",
    "- 4.2: Getting acquainted with semi-supervised learning approaches [5pts] - *non-programming*\n",
    "\n",
    "- 4.3: Implementing the EM algorithm [10pts] - *programming*\n",
    "\n",
    "    - _init_components [5pts]\n",
    "    \n",
    "    - SemiSupervised \\_\\_call\\_\\_ [5pts]\n",
    "\n",
    "- 4.4: Demonstrating the performance of the algorithm [5pts] - *programming*\n",
    "    \n",
    "    - accuracy_semi_supervised [2.5pts]\n",
    "    \n",
    "    - accuracy_GNB [2.5pts]\n",
    "\n"
   ]
  },
  {
   "cell_type": "markdown",
   "metadata": {
    "id": "cKKsCsvo_Mvz"
   },
   "source": [
    "## 0 Set up\n",
    "This notebook is tested under [python 3.6.8](https://www.python.org/downloads/release/python-368/), and the corresponding packages can be downloaded from [miniconda](https://docs.conda.io/en/latest/miniconda.html). You may also want to get yourself familiar with several packages:\n",
    "\n",
    "- [jupyter notebook](https://jupyter-notebook.readthedocs.io/en/stable/)\n",
    "- [numpy](https://docs.scipy.org/doc/numpy-1.15.1/user/quickstart.html)\n",
    "- [matplotlib](https://matplotlib.org/users/pyplot_tutorial.html)\n",
    "\n",
    "You can create a python conda environment with the necessary packages using the instructions in the `environment/environment_setup.md` file.\n",
    "\n",
    "Please implement the functions that have \"raise NotImplementedError\", and after you finish the coding, please delete or comment \"raise NotImplementedError\"."
   ]
  },
  {
   "cell_type": "code",
   "execution_count": 1,
   "metadata": {
    "colab": {
     "base_uri": "https://localhost:8080/"
    },
    "id": "HhlrgV1__Mvz",
    "outputId": "1b21a9dc-5a27-4da2-c54c-400962b79bef"
   },
   "outputs": [
    {
     "name": "stdout",
     "output_type": "stream",
     "text": [
      "Version information\n",
      "python: 3.8.5 (default, Sep  4 2020, 02:22:02) \n",
      "[Clang 10.0.0 ]\n",
      "matplotlib: 3.3.2\n",
      "numpy: 1.19.2\n"
     ]
    }
   ],
   "source": [
    "###############################\n",
    "### DO NOT CHANGE THIS CELL ###\n",
    "###############################\n",
    "\n",
    "from __future__ import absolute_import\n",
    "from __future__ import print_function\n",
    "from __future__ import division\n",
    "\n",
    "%matplotlib inline  \n",
    "\n",
    "import sys\n",
    "import matplotlib\n",
    "import numpy as np\n",
    "import matplotlib.pyplot as plt\n",
    "from mpl_toolkits.mplot3d import axes3d\n",
    "from tqdm import tqdm\n",
    "\n",
    "print('Version information')\n",
    "\n",
    "print('python: {}'.format(sys.version))\n",
    "print('matplotlib: {}'.format(matplotlib.__version__))\n",
    "print('numpy: {}'.format(np.__version__))\n",
    "\n",
    "# Load image\n",
    "import imageio\n",
    "\n",
    "%load_ext autoreload\n",
    "%autoreload 2"
   ]
  },
  {
   "cell_type": "markdown",
   "metadata": {
    "id": "Ysr89SO3_Mv0"
   },
   "source": [
    "## 1. Rob's Avian Commission - KMeans Clustering [55 pts + 10 pts Bonus for Undergrad]\n",
    "\n",
    "Rob Boss, after being stuck in his dorm for multiple nights finishing Homework 1 for his Machine Learning class, decides to get some well deserved fresh air. He plans on visiting the colorful birds festival downtown this weekend with a few friends. Once there, he takes many pictures and ultimately decides that his favorite is the picture attached below (please compliment Rob on his photography and machine learning skills the next time you see him) and wants to hang it up in his dorm. He decides to commission his artist friend to convert his picture into a painting but finds out his friend charges him for each color used when painting. Being the cash-strapped college student he is, help Rob build a KMeans clustering algorithm that can help him decide how many colors he wants to commission for his painting so that he can see the feather colors without spending too much money."
   ]
  },
  {
   "cell_type": "markdown",
   "metadata": {
    "id": "OH4OmIDj_Mv1"
   },
   "source": [
    "<img src=\"data/images/bird.png\" width=\"500\">"
   ]
  },
  {
   "cell_type": "markdown",
   "metadata": {
    "id": "1B5DYD13_Mv2"
   },
   "source": [
    "KMeans is trying to solve the following optimization problem:\n",
    "\n",
    "\\begin{align}\n",
    "\\arg \\min_S \\sum_{i=1}^K \\sum_{x_j \\in S_i} ||x_j - \\mu_i||^2\n",
    "\\end{align}\n",
    "where one needs to partition the N observations into K clusters: $S = \\{S_1, S_2, \\ldots, S_K\\}$ and each cluster has $\\mu_i$ as its center.\n"
   ]
  },
  {
   "cell_type": "markdown",
   "metadata": {
    "id": "NtdX4lTz_Mv2"
   },
   "source": [
    "### 1.1 pairwise distance [5pts]\n",
    "\n",
    "In this section, you are asked to implement pairwise_dist function.\n",
    "\n",
    "Given $X \\in \\mathbb{R}^{N \\times D}$ and $Y \\in \\mathbb{R}^{M \\times D}$, obtain the pairwise distance matrix $dist \\in \\mathbb{R}^{N \\times M}$ using the euclidean distance metric, where $dist_{i, j} = ||X_i - Y_j||_2$.  \n",
    "\n",
    "DO NOT USE FOR LOOPs in your implementation, **using for-loops or while-loops will result in 0 credit for this portion.** [Use array broadcasting instead](https://numpy.org/doc/stable/user/basics.broadcasting.html)."
   ]
  },
  {
   "cell_type": "markdown",
   "metadata": {
    "id": "afH5SXTC_Mv3"
   },
   "source": [
    "Test Case:"
   ]
  },
  {
   "cell_type": "code",
   "execution_count": 2,
   "metadata": {
    "colab": {
     "base_uri": "https://localhost:8080/"
    },
    "id": "OFxzXgca_Mv3",
    "outputId": "bd9dcb55-b52a-49a9-ddb6-90e5dde6be4f"
   },
   "outputs": [
    {
     "name": "stdout",
     "output_type": "stream",
     "text": [
      "*** Expected Answer ***\n",
      "==x==\n",
      "[[ 1.62434536 -0.61175641]\n",
      " [-0.52817175 -1.07296862]]\n",
      "==y==\n",
      "[[ 0.86540763 -2.3015387 ]\n",
      " [ 1.74481176 -0.7612069 ]\n",
      " [ 0.3190391  -0.24937038]]\n",
      "==dist==\n",
      "[[1.85239052 0.19195729 1.35467638]\n",
      " [1.85780729 2.29426447 1.18155842]]\n",
      "\n",
      "*** My Answer ***\n",
      "==x==\n",
      "[[ 1.62434536 -0.61175641]\n",
      " [-0.52817175 -1.07296862]]\n",
      "==y==\n",
      "[[ 0.86540763 -2.3015387 ]\n",
      " [ 1.74481176 -0.7612069 ]\n",
      " [ 0.3190391  -0.24937038]]\n",
      "==dist==\n"
     ]
    },
    {
     "ename": "NotImplementedError",
     "evalue": "",
     "output_type": "error",
     "traceback": [
      "\u001b[0;31m---------------------------------------------------------------------------\u001b[0m",
      "\u001b[0;31mNotImplementedError\u001b[0m                       Traceback (most recent call last)",
      "\u001b[0;32m<ipython-input-2-a588de4da5cf>\u001b[0m in \u001b[0;36m<module>\u001b[0;34m\u001b[0m\n\u001b[1;32m     30\u001b[0m \u001b[0mprint\u001b[0m\u001b[0;34m(\u001b[0m\u001b[0my\u001b[0m\u001b[0;34m)\u001b[0m\u001b[0;34m\u001b[0m\u001b[0;34m\u001b[0m\u001b[0m\n\u001b[1;32m     31\u001b[0m \u001b[0mprint\u001b[0m\u001b[0;34m(\u001b[0m\u001b[0;34m\"==dist==\"\u001b[0m\u001b[0;34m)\u001b[0m\u001b[0;34m\u001b[0m\u001b[0;34m\u001b[0m\u001b[0m\n\u001b[0;32m---> 32\u001b[0;31m \u001b[0mprint\u001b[0m\u001b[0;34m(\u001b[0m\u001b[0mpairwise_dist\u001b[0m\u001b[0;34m(\u001b[0m\u001b[0mx\u001b[0m\u001b[0;34m,\u001b[0m \u001b[0my\u001b[0m\u001b[0;34m)\u001b[0m\u001b[0;34m)\u001b[0m\u001b[0;34m\u001b[0m\u001b[0;34m\u001b[0m\u001b[0m\n\u001b[0m",
      "\u001b[0;32m~/repos/CS4640/HW2/hw2_code/kmeans.py\u001b[0m in \u001b[0;36mpairwise_dist\u001b[0;34m(x, y)\u001b[0m\n\u001b[1;32m    125\u001b[0m \u001b[0;34m\u001b[0m\u001b[0m\n\u001b[1;32m    126\u001b[0m \u001b[0;34m\u001b[0m\u001b[0m\n\u001b[0;32m--> 127\u001b[0;31m     \u001b[0;32mraise\u001b[0m \u001b[0mNotImplementedError\u001b[0m\u001b[0;34m\u001b[0m\u001b[0;34m\u001b[0m\u001b[0m\n\u001b[0m",
      "\u001b[0;31mNotImplementedError\u001b[0m: "
     ]
    }
   ],
   "source": [
    "###############################\n",
    "### DO NOT CHANGE THIS CELL ###\n",
    "###############################\n",
    "\n",
    "# Set random seed so output is all same\n",
    "np.random.seed(1)\n",
    "\n",
    "from kmeans import pairwise_dist\n",
    "\n",
    "x = np.random.randn(2, 2)\n",
    "y = np.random.randn(3, 2)\n",
    "\n",
    "print(\"*** Expected Answer ***\")\n",
    "print(\"\"\"==x==\n",
    "[[ 1.62434536 -0.61175641]\n",
    " [-0.52817175 -1.07296862]]\n",
    "==y==\n",
    "[[ 0.86540763 -2.3015387 ]\n",
    " [ 1.74481176 -0.7612069 ]\n",
    " [ 0.3190391  -0.24937038]]\n",
    "==dist==\n",
    "[[1.85239052 0.19195729 1.35467638]\n",
    " [1.85780729 2.29426447 1.18155842]]\"\"\")\n",
    "\n",
    "\n",
    "print(\"\\n*** My Answer ***\")\n",
    "print(\"==x==\")\n",
    "print(x)\n",
    "print(\"==y==\")\n",
    "print(y)\n",
    "print(\"==dist==\")\n",
    "print(pairwise_dist(x, y))"
   ]
  },
  {
   "cell_type": "markdown",
   "metadata": {
    "id": "isP9lpcG_Mv4"
   },
   "source": [
    "### 1.2 KMeans Implementation [30pts]\n",
    "\n",
    "In this section, you are asked to implement _init_centers [5pts], _update_assignment [10pts], _update_centers [10pts] and _get_loss function [5pts].\n",
    "\n",
    "For the function signature, please see the corresponding doc strings.\n",
    "\n",
    "**HINT:** In _update_centers(), If you need to reduce the number of clusters when there are 0 points for a center, then do so."
   ]
  },
  {
   "cell_type": "code",
   "execution_count": null,
   "metadata": {
    "id": "JITfOV___Mv4"
   },
   "outputs": [],
   "source": [
    "###############################\n",
    "### DO NOT CHANGE THIS CELL ###\n",
    "###############################\n",
    "\n",
    "from kmeans import KMeans\n",
    "\n",
    "def image_to_matrix(image_file, grays=False):\n",
    "    \"\"\"\n",
    "    Convert .png image to matrix\n",
    "    of values.\n",
    "    params:\n",
    "    image_file = str\n",
    "    grays = Boolean\n",
    "    returns:\n",
    "    img = (color) np.ndarray[np.ndarray[np.ndarray[float]]]\n",
    "    or (grayscale) np.ndarray[np.ndarray[float]]\n",
    "    \"\"\"\n",
    "    img = plt.imread(image_file)\n",
    "    # in case of transparency values\n",
    "    if len(img.shape) == 3 and img.shape[2] > 3:\n",
    "        height, width, depth = img.shape\n",
    "        new_img = np.zeros([height, width, 3])\n",
    "        for r in range(height):\n",
    "            for c in range(width):\n",
    "                new_img[r, c, :] = img[r, c, 0:3]\n",
    "        img = np.copy(new_img)\n",
    "    if grays and len(img.shape) == 3:\n",
    "        height, width = img.shape[0:2]\n",
    "        new_img = np.zeros([height, width])\n",
    "        for r in range(height):\n",
    "            for c in range(width):\n",
    "                new_img[r, c] = img[r, c, 0]\n",
    "        img = new_img\n",
    "    return img\n",
    "\n",
    "def update_image_values(k):\n",
    "    cluster_idx, centers, loss = KMeans()(image_values, k)\n",
    "    updated_image_values = np.copy(image_values)\n",
    "\n",
    "    # assign each pixel to cluster mean\n",
    "    for i in range(0,k):\n",
    "        indices_current_cluster = np.where(cluster_idx == i)[0]\n",
    "        updated_image_values[indices_current_cluster] = centers[i]\n",
    "\n",
    "    updated_image_values = updated_image_values.reshape(r,c,ch)\n",
    "    return updated_image_values\n",
    "\n",
    "def plot_image(img_list, title_list, figsize=(15, 10)):\n",
    "    fig, axes = plt.subplots(len(img_list)//2, 2, figsize=figsize)\n",
    "    p = 0\n",
    "    for i, ax in enumerate(axes):\n",
    "        for col in range(len(img_list)//2):\n",
    "            axes[i, col].imshow(img_list[p])\n",
    "            axes[i, col].set_title(title_list[p])\n",
    "            axes[i, col].axis('off')\n",
    "            p += 1"
   ]
  },
  {
   "cell_type": "code",
   "execution_count": null,
   "metadata": {
    "id": "ebdi_dyS_Mv5",
    "outputId": "ff63df0c-d9ed-430c-e881-a1645a180c00"
   },
   "outputs": [],
   "source": [
    "%%time\n",
    "###############################\n",
    "### DO NOT CHANGE THIS CELL ###\n",
    "###############################\n",
    "\n",
    "#Note that because of a different file structure, students' paths will be different\n",
    "\n",
    "image_values = image_to_matrix('./data/images/bird.png')\n",
    "\n",
    "r = image_values.shape[0]\n",
    "c = image_values.shape[1]\n",
    "ch = image_values.shape[2]\n",
    "# flatten the image_values\n",
    "image_values = image_values.reshape(r*c,ch)\n",
    "\n",
    "print('Loading...')\n",
    "\n",
    "image_2 = update_image_values(2).reshape(r, c, ch)\n",
    "image_5 = update_image_values(5).reshape(r, c, ch)\n",
    "image_10 = update_image_values(10).reshape(r, c, ch)\n",
    "image_20 = update_image_values(20).reshape(r, c, ch)\n",
    "\n",
    "plot_image([image_2, image_5, image_10, image_20], ['K = 2', 'K = 5', 'K = 10', 'K = 20'])"
   ]
  },
  {
   "cell_type": "markdown",
   "metadata": {
    "id": "xuEnlmN4_Mv5"
   },
   "source": [
    "### 1.3 Elbow Method [10 pts Programming + 5 pts Written Questions]\n",
    "\n",
    "One of the biggest drawbacks of KMeans is that we need to know the number of clusters beforehand. Let's see if we can help Rob's paint optimization problem by implementing the elbow method to find the optimal number of clusters in the function find_optimal_num_clusters below."
   ]
  },
  {
   "cell_type": "code",
   "execution_count": null,
   "metadata": {
    "id": "dMjIVQsb_Mv5",
    "outputId": "0b72e8b0-fbf0-40be-913e-e40959965944"
   },
   "outputs": [],
   "source": [
    "%%time\n",
    "###############################\n",
    "### DO NOT CHANGE THIS CELL ###\n",
    "###############################\n",
    "\n",
    "from kmeans import find_optimal_num_clusters\n",
    "\n",
    "find_optimal_num_clusters(image_values)"
   ]
  },
  {
   "cell_type": "markdown",
   "metadata": {
    "id": "OYMGmHnb_Mv5"
   },
   "source": [
    "#### Written Questions (5 pts):\n",
    "1) Approximately what value does the elbow method give? \n",
    "\n",
    "2) Rob is not quite sure if he should use the loss graph to select a K that minimizes loss as close to 0 as possible or to use the elbow method. Which is a better option and why? Does your elbow method elbow method answer reflect this in the resulting images produced by kmeans?"
   ]
  },
  {
   "cell_type": "markdown",
   "metadata": {
    "id": "AsQ451om_Mv6"
   },
   "source": [
    "#### Answers:\n",
    "\n",
    "1) \n",
    "\n",
    "2) \n"
   ]
  },
  {
   "cell_type": "markdown",
   "metadata": {
    "id": "F6RKWYnT_Mv6"
   },
   "source": [
    "### Limitation of K-Means\n",
    "\n",
    "One of the limitations of K-Means Clustering is that it dependes largely on the shape of the dataset. A common example of this is trying to cluster one circle within another (concentric circles). A K-means classifier will fail to do this and will end up effectively drawing a line which crosses the circles. You can visualize this limitation in the cell below."
   ]
  },
  {
   "cell_type": "code",
   "execution_count": null,
   "metadata": {
    "id": "_R0ckO9H_Mv6",
    "outputId": "5b7e8926-6161-4188-c476-21646664abfd"
   },
   "outputs": [],
   "source": [
    "###############################\n",
    "### DO NOT CHANGE THIS CELL ###\n",
    "###############################\n",
    "\n",
    "# visualize limitation of kmeans\n",
    "from sklearn.datasets import (make_circles, make_moons)\n",
    "\n",
    "X1, y1 = make_circles(factor=0.5, noise=0.05, n_samples=1500)\n",
    "X2, y2 = make_moons(noise=0.05, n_samples=1500)\n",
    "\n",
    "def visualise(X, C, K=None):# Visualization of clustering. You don't need to change this function   \n",
    "    fig, ax = plt.subplots()\n",
    "    ax.scatter(X[:, 0], X[:, 1], c=C,cmap='rainbow')\n",
    "    if K:\n",
    "        plt.title('Visualization of K = '+str(K), fontsize=15)\n",
    "    plt.show()\n",
    "    pass\n",
    "\n",
    "cluster_idx1, centers1, loss1 = KMeans()(X1, 2)\n",
    "visualise(X1, cluster_idx1, 2)\n",
    "\n",
    "cluster_idx2, centers2, loss2 = KMeans()(X2, 2)\n",
    "visualise(X2, cluster_idx2, 2)"
   ]
  },
  {
   "cell_type": "markdown",
   "metadata": {
    "id": "B5lmW2uC_Mv6"
   },
   "source": [
    "### 1.5 Autograder test to find centers for data points [5 pts]\n",
    "\n",
    "To obtain these 5 points, you need to be pass the tests set up in the autograder. These will test the centers created by your implementation. Be sure to upload the correct files to obtain these points."
   ]
  },
  {
   "cell_type": "markdown",
   "metadata": {
    "id": "fKoOWjNL_Mv6"
   },
   "source": [
    "### 1.6 DBSCAN [10 pts BONUS FOR UNDERGRAD]\n",
    "\n",
    "Let us try to solve these limitations using another clustering algorithm: DBSCAN. As mentioned in lecture, DBSCAN tries to find dense regions in the data spce, separated by regions of lower density. DBSCAN is parameterized by two parameters (eps and minPts):\n",
    "* $\\epsilon$: Maximum radius of neighborhood\n",
    "* $MinPts$: Minimum number of points in Eps-neighborhood of a point to be considered \"dense\".\n",
    "       \n",
    "**Refer to the class slides for the DBSCAN pseudocode** to complete fit(), expandCluster(), and regionQuery() in dbscan.py.\n",
    "\n",
    "**HINT:** You might find it easier to implement expandCluster() before attempting to implement fit(). You can test expandCluster() and regionQuery() on Gradescope before implementing fit()."
   ]
  },
  {
   "cell_type": "markdown",
   "metadata": {
    "id": "LOBQ87R-_Mv7"
   },
   "source": [
    "Then, test your code by running the cell below. You should be able to get a perfect clustering for the two circles dataset, which you can observe quantitatively by checking whether the clusters returned by cluster_idx and the ground truth clusters are the same and qualitatively by visualizing the clusters."
   ]
  },
  {
   "cell_type": "code",
   "execution_count": null,
   "metadata": {
    "id": "HZmNciy9_Mv7",
    "outputId": "6028974a-eb60-4cce-8c35-19b59c653ae3"
   },
   "outputs": [],
   "source": [
    "###############################\n",
    "### DO NOT CHANGE THIS CELL ###\n",
    "###############################\n",
    "BEST_EPS = 0.11\n",
    "BEST_POINTS = 3\n",
    "from dbscan import DBSCAN\n",
    "dbscan = DBSCAN(BEST_EPS, BEST_POINTS, X1)\n",
    "cluster_idx = dbscan.fit()\n",
    "## Note that one of the two cells should print True for a correct implementation\n",
    "print(np.array_equal(y1, cluster_idx)) #Checks if y1 == cluster_idx\n",
    "print(np.array_equal(y1, 1-cluster_idx)) ## Checks if y1 is the exact opposite of cluster_idx (1s instead of 0s and vice-versa)\n",
    "visualise(X1, cluster_idx)"
   ]
  },
  {
   "cell_type": "markdown",
   "metadata": {
    "id": "NnjRdvII_Mv7"
   },
   "source": [
    "# 2. EM algorithm [10 pts]\n"
   ]
  },
  {
   "cell_type": "markdown",
   "metadata": {
    "id": "vEH3Rq6I_Mv7"
   },
   "source": [
    "## 2.1 E-Step [10 pts]\n",
    "**SOLUTIONS CANNOT BE HANDWRITTEN**\n",
    "\n",
    "A univariate Gaussian Mixture Model (GMM) has two components, both of which have their own mean and standard deviation. The model is defined by the following parameters:\n",
    "$$ \\mathbf{z} \\sim Bernoulli(\\theta) = \\begin{cases} \\theta &\\text{if} \\, z=0 \\\\ 1-\\theta &\\text{if} \\, z=1 \\\\\\end{cases}$$\n",
    "$$ \\mathbf{p(x|z=0)} \\sim \\mathcal{N}(\\mu, 2\\sigma^{2}) $$\n",
    "$$ \\mathbf{p(x|z=1)} \\sim \\mathcal{N}(2\\mu, 3\\sigma^{2}) $$\n",
    "\n",
    "For a dataset of N datapoints, find the following: \n",
    "\n",
    "\n",
    "2.1.1. Write the marginal probability of x, i.e. $p(x)$  \\[5pts]\n",
    "<br> -- *You may express the Gaussian PDF as $\\mathcal{N}(\\_, \\; \\_)$ where _ should be replaced with the appropriate mean and variance given in the problem definition. Your answer should be in terms of $\\mu, \\sigma$, and $\\theta$.* \n",
    "\n",
    "\n",
    "2.1.2. E-Step: Compute the posterior probability, i.e, $p(z_i=k|x_i)$, where k = {0,1} \\[5pts]\n",
    "<br> -- *You may express the Gaussian PDF as $\\mathcal{N}(\\_, \\; \\_)$ where _ should be replaced with the appropriate mean and variance given in the problem definition. Your answer should be in terms of $\\mu, \\sigma$, and $\\theta$.* \n",
    "\n",
    "\n",
    "#### Answers:\n",
    "\n",
    "2.1.1\n",
    "\n",
    "\n",
    "2.1.2\n",
    "\n"
   ]
  },
  {
   "cell_type": "markdown",
   "metadata": {
    "id": "fXcuY2pb_Mv7"
   },
   "source": [
    "## 3. GMM implementation [43pts Programming + 12pts Written Questions + 5pts bonus for all pts]\n",
    "\n",
    "**Please make sure to read the problem setup in detail. Many questions for this section may have already been answered in the description and hints and docstrings.**\n",
    "\n",
    "A Gaussian Mixture Model(GMM) is a probabilistic model that assumes all the data points are generated from a mixture of a finite number of Gaussian Distribution. In a nutshell, GMM is a soft clustering algorithm in a sense that each data point is assigned to a cluster with a probability. In order to do that, we need to convert our clustering problem into an inference problem.\n",
    "\n",
    "Given $N$ samples $X = [x_1, x_2, \\ldots, x_N]^T$, where $x_i \\in \\mathbb{R}^D$. Let $\\pi$ be a K-dimensional probability density function and $(\\mu_k; \\Sigma_k)$ be the mean and covariance matrix of the $k^{th}$ Gaussian distribution in $\\mathbb{R}^d$. \n",
    "\n",
    "The GMM object implements EM algorithms for fitting the model and MLE for optimizing its parameters. It also has some particular hypothesis on how the data was generated:\n",
    "\n",
    "- Each data point $x_i$ is assigned to a cluster $k$ with probability of $\\pi_k$ where $\\sum_{k=1}^K \\pi_k = 1$\n",
    "- Each data point $x_i$ is generated from Multivariate Normal Distribution $\\cal{N}(\\mu_k, \\Sigma_k)$ where $\\mu_k \\in \\mathbb{R}^D$ and $\\Sigma_k \\in \\mathbb{R}^{D\\times D}$\n",
    "\n",
    "Our goal is to find a $K$-dimension Gaussian distributions to model our data $X$. This can be done by learning the parameters $\\pi, \\mu$ and $\\Sigma$ through likelihood function. Detailed derivation can be found in our slide of GMM. The log-likelihood function now becomes:\n",
    "\n",
    "\\begin{align}\n",
    "    \\text{ln } p(x_1, \\dots, x_N | \\pi, \\mu, \\Sigma) = \\sum_{i=1}^N \\text{ln } \\big( \\sum_{k=1}^{K} \\pi(k) \\mathcal{N}(x_i | \\mu_k, \\Sigma_k)\\big)\n",
    "\\end{align}"
   ]
  },
  {
   "cell_type": "markdown",
   "metadata": {
    "id": "tLjk2ZYU_Mv8"
   },
   "source": [
    "From the lecture we know that MLEs for GMM all depend on each other and the responsibility $\\tau$. Thus, we need to use an iterative algorithm (the EM algorithm) to find the estimate of parameters that maximize our likelihood function. **All detailed derivations can be found in the lecture slide of GMM.**\n",
    "\n",
    "- **E-step:** Evaluate the responsibilities\n",
    "\n",
    "In this step, we need to calculate the responsibility $\\tau$, which is the conditional probability that a data point belongs to a specific cluster $k$ if we are given the datapoint, i.e. $P(z_k|x)$. The formula for $\\tau$ is given below:\n",
    "\n",
    "$$\n",
    "\\tau\\left(z_k\\right)=\\frac{\\pi_{k} \\cal{N}\\left(x | \\mu_{k}, \\Sigma_{k}\\right)}{\\sum_{j=1}^{K} \\pi_{j} \\cal{N}\\left(x | \\mu_{j}, \\Sigma_{j}\\right)}, \\quad \\text{for } k = 1, \\dots, K\n",
    "$$\n",
    "Note that each data point should have one probability for each component/cluster. For this homework, you will work with $\\tau\\left(z_k\\right)$ which has a size of $N\\times K$ and you should have all the responsibility values in one matrix. **We use gamma as $\\tau$ in this homework**.\n",
    "\n",
    "- **M-step:** Re-estimate Paramaters\n",
    "\n",
    "After we obtained the responsibility, we can find the update of parameters, which are given below:\n",
    "\n",
    "\\begin{align}\n",
    "\\mu_k^{new} &= \\dfrac{\\sum_{n=1}^N \\tau(z_k)x_n}{N_k} \\\\\n",
    "\\Sigma_k^{new} &= \\dfrac{1}{N_k}\\sum_{n=1}^N \\tau (z_k)^T(x_n - \\mu_k^{new})^T(x_n-\\mu_k^{new}) \\\\\n",
    "\\pi_k^{new} &= \\dfrac{N_k}{N}\n",
    "\\end{align}\n",
    "where $N_k = \\sum_{n=1}^N \\tau(z_k)$. Note that the updated value for $\\mu_k$ is used when updating $\\Sigma_k$. The multiplication of $\\tau (z_k)^T(x_n - \\mu_k^{new})^T$ is element-wise so it will preserve the dimensions of $(x_n - \\mu_k^{new})^T$.\n",
    "\n",
    "- We repeat E and M steps until the incremental improvement to the likelihood function is small.\n"
   ]
  },
  {
   "cell_type": "markdown",
   "metadata": {
    "id": "Jhd5Z_53_Mv8"
   },
   "source": [
    "**Special Notes**\n",
    "- For undergraduate student: you may assume that the covariance matrix $\\Sigma$ is diagonal matrix, which means the features are independent. (i.e. the red intensity of a pixel is independent from its blue intensity, etc). Make sure you set **FULL_MATRIX = False** before you submit your code to Gradescope. \n",
    "- For graduate student: please assume full covariance matrix. Make sure you set **FULL_MATRIX = True** before you submit your code to Gradescope\n",
    "- The class notes assume that your dataset $X$ is $(D, N)$ but **the homework dataset is $(N, D)$ as mentioned on the instructions, so the formula is a little different from the lecture note in order to obtain the right dimensions of parameters.**\n",
    "\n",
    "**Hints**\n",
    "\n",
    "1. **DO NOT USE FOR LOOPS OVER N. No credit will be given for implementing the function with for or while loops that visit every datapoint.** You can always find a way to avoid looping over the observation datapoints in our homework problem. If you have to loop over D or K, that is fine.\n",
    "\n",
    "2. You can initiate $\\pi(k)$ the same for each $k$, i.e. $\\pi(k) = \\frac{1}{K}, \\forall k = 1, 2, \\ldots, K$.\n",
    "\n",
    "3. In part 3 you are asked to generate the model for pixel clustering of image. We will need to use a multivariate Gaussian because each image will hava $N$ pixels and $D=3$ features which corresponds to red, green, and blue color intensities. It means that each image is a $(N\\times3)$ dataset matrix. In the following parts, remember $D=3$ in this problem.\n",
    "\n",
    "4. To avoid using for loops in your code, we recommend you take a look at the concept [Array Broadcasting in Numpy](https://numpy.org/doc/stable/user/theory.broadcasting.html#array-broadcasting-in-numpy). Also, certain calculations that required different shapes of arrays can also be achieved by broadcasting. \n",
    "\n",
    "5. Be careful of the dimensions of your parameters. Before you test anything on the autograder, please look at the instructions below on the shapes of the variables you need to output and how to format your return statement. Print the shape of an array by [print(array.shape)](https://www.w3schools.com/python/numpy/numpy_array_shape.asp) could enhance the functionality of your code and help you debugging. Also notice that **a numpy array in shape $(N,1)$ is NOT the same as that in shape $(N,)$** so be careful and consistent on what you are using. You can see the detailed explanation here. [Difference between numpy.array shape (R, 1) and (R,)](https://stackoverflow.com/questions/22053050/difference-between-numpy-array-shape-r-1-and-r)\n",
    " - The dataset $X$: $(N, D)$\n",
    " - $\\mu$: $(K, D)$. \n",
    " - $\\Sigma$: $(K, D, D)$\n",
    " - $\\tau$: $(N, K)$\n",
    " - $\\pi$: array of length $K$\n",
    " - ll_joint: $(N, K)$\n",
    "\n"
   ]
  },
  {
   "cell_type": "markdown",
   "metadata": {
    "id": "1Iviglmb_Mv8"
   },
   "source": [
    "## 3.1 Helper functions [15 pts]\n",
    "\n",
    "To facilitate some of the operations in the GMM implementation, we would like you to implement the following three helper functions. In these functions, \"logit\" refers to an input array of size $(N, D)$. Remember the goal of helper functions is to facilitate our calculation so **DO NOT USE FOR LOOP ON N**.\n",
    "\n",
    "### 3.1.1. softmax [5 pts]\n",
    "\n",
    "Given $logit \\in \\mathbb{R}^{N \\times D}$, calculate $prob \\in \\mathbb{R}^{N \\times D}$, where $prob_{i, j} = \\frac{\\exp(logit_{i, j})}{\\sum_{d=1}^D exp(logit_{i, d})}$.\n",
    "\n",
    "Note: it is possible that $logit_{i, j}$ is very large, making $\\exp(\\cdot)$ of it to explode. To make sure it is numerically stable, you need to subtract the maximum for each row of $logits$.\n",
    "\n",
    "\n",
    "**Special Notes**\n",
    "- Do not add back the maximum for each row. \n",
    "- Add **keepdims=True** in your np.sum() function to avoid broadcast error. \n",
    "\n",
    "### 3.1.2. logsumexp [3 pts Programming + 2 pts Written Questions]\n",
    "\n",
    "Given $logit \\in \\mathbb{R}^{N \\times D}$, calculate $s \\in \\mathbb{R}^N$, where $s_i = \\log \\big( \\sum_{j=1}^D \\exp(logit_{i, j}) \\big)$. Again, pay attention to the numerical problem. You may face similar condition as in the softmax function. In this case, add the maximum for each row of $logit$ back for your functions \n",
    "\n",
    "\n",
    "**Special Notes**\n",
    "- This function is used in the call() function, which is given, and helps calculate the loss of log-likelihood. You will not have to call it in functions that you are required to implement.\n",
    "\n",
    "#### Written Questions [2 pts]:\n",
    "\n",
    "1) Why should we add the maximum for each row of $logit$ to **logsumexp()** function?\n",
    "\n",
    "**Hint**: start with a simple example like $logit \\in \\mathbb{R}^{1 \\times D}$\n",
    " \n"
   ]
  },
  {
   "cell_type": "markdown",
   "metadata": {
    "id": "YFB_8-vj_Mv8"
   },
   "source": [
    "**Answer:**\n",
    "\n"
   ]
  },
  {
   "cell_type": "markdown",
   "metadata": {
    "id": "Ig0zfoum_Mv8"
   },
   "source": [
    "\n",
    "### 3.1.3. Multivariate Gaussian PDF [5 pts]\n",
    "You should be able to write your own function based on the following formula, and you are **NOT allowed** to use outside resource packages other than those we provided. \n",
    "\n",
    "**(for undergrads only) normalPDF**\n",
    "\n",
    "Using the covariance matrix as a diagonal matrix with variances of the individual variables appearing on the main diagonal of the matrix and zeros everywhere else means that we assume the features are independent. In this case, the multivariate normal density function simplifies to the expression below:\n",
    "$$\\mathcal{N}(x: \\mu, \\Sigma) = \\prod_{i=1}^D \\frac{1}{\\sqrt{2\\pi\\sigma_i^2}}\\exp{\\left( -\\frac{1}{2\\sigma_i^2} (x_i-\\mu_i)^2\\right)}$$\n",
    "where $\\sigma^2_i$ is the variance for the $i^{th}$ feature, which is the diagonal element of the covariance matrix.\n",
    "\n",
    "**(for grads only) multinormalPDF**\n",
    "\n",
    "Given the dataset $X \\in \\mathbb{R}^{N \\times D}$, the mean vector $\\mu \\in \\mathbb{R}^{D}$ and covariance matrix $\\Sigma \\in \\mathbb{R}^{D \\times D}$ for a multivariate Gaussian distrubution, calculate the probability $p \\in \\mathbb{R}^{N}$ of each data. The PDF is given by \n",
    "$$\\mathcal{N}(X: \\mu, \\Sigma) = \\frac{1}{(2\\pi)^{D/2}}|\\Sigma|^{-1/2}\\exp{\\left(-\\frac{1}{2}(X-\\mu)\\Sigma^{-1}(X-\\mu)^T\\right)}$$\n",
    "where $|\\Sigma|$ is the determinant of the covariance matrix.\n",
    "\n",
    "\n",
    "**Hints**\n",
    "- If you encounter \"LinAlgError\", you can mitigate your number/array by summing a small value before taking the operation, e.g. np.linalg.inv($\\Sigma_k$ + SIGMA_CONST). You can arrest and handle such error by using [Try and Exception Block](https://realpython.com/python-exceptions/#the-try-and-except-block-handling-exceptions) in Python.Please only add `SIGMA_CONST` when `sigma_i` is not invertible. \n",
    "\n",
    "- In the above calculation, you must avoid computing a $(N,N)$ matrix. Using the above equation for large N will crash your kernel and/or give you a memory error on Gradescope. Instead, you can do this same operation by calculating $(X-\\mu)\\Sigma^{-1}$, a $(N,D)$ matrix, transpose it to be a $(D,N)$ matrix and do an element-wise multiplication with $(X-\\mu)^T$, which is also a $(D,N)$ matrix. Lastly, you will need to sum over the 0 axis to get a $(1,N)$ matrix before proceeding with the rest of the calculation. This uses the fact that doing an element-wise multiplication and summing over the 0 axis is the same as taking the diagonal of the $(N,N)$ matrix from the matrix multiplication. \n",
    "- In Numpy implementation for each individual $\\mu$, you can either use a 2-D array with dimension $(1,D)$ for each Gaussian Distribution, or a 1-D array with length $D$. Same to other array parameters. Both ways should be acceptable but pay attention to the shape mismatch problem and be **consistent all the time** when you implement such arrays. \n",
    "\n",
    "- Please **DO NOT** use `self.D` in your implementation of `multinormalPDF()` . "
   ]
  },
  {
   "cell_type": "markdown",
   "metadata": {
    "id": "Cj-SyonU_Mv9"
   },
   "source": [
    "### 3.2 GMM Implementation [30 pts]"
   ]
  },
  {
   "cell_type": "markdown",
   "metadata": {
    "id": "nVoCLl_3_Mv9"
   },
   "source": [
    "Things to do in this problem:\n",
    "### 3.2.1. Initialize parameters in _init_components() [5 pts]\n",
    "\n",
    "Examples of how you can initialize the parameters. \n",
    "  1. Set the prior probability $\\pi$ the same for each class.\n",
    "  2. Initialize $\\mu$ by randomly selecting K numbers of observations as the initial mean vectors. You can use [int(np.random.uniform())](https://numpy.org/doc/stable/reference/random/generated/numpy.random.uniform.html) to get the row index number of the datapoints randomly. \n",
    "  3. Initialize the covariance matrix with [np.eye()](https://numpy.org/devdocs/reference/generated/numpy.eye.html) for each k. For grads, you can also initialize the $\\Sigma$ by K diagonal matrices. It will become a full matrix after one iteration, as long as you adopt the correct computation.\n",
    "  4. Other ways of initialization are acceptable and welcome. The autograder will only test the shape of your $\\pi$,$\\mu$, $\\sigma$. Make sure you pass other evaluations in the autograder.\n",
    "\n",
    "### 3.2.2. Formulate the log-likelihood function _ll_joint() [10 pts]\n",
    "\n",
    "The log-likelihood function is given by:\n",
    "$$\n",
    "\\begin{align}\n",
    "    \\ell(\\theta) = \\sum_{i=1}^N \\text{ln } \\big( \\sum_{k=1}^{K} \\pi(k) \\mathcal{N}(x_i | \\mu_k, \\Sigma_k)\\big)\n",
    "\\end{align}\n",
    "$$\n",
    "In this part, we will generate a $(N,K)$ matrix where each datapoint $x_i, \\forall i = 1, \\dots, N$ has $K$ log-likelihood numbers. Thus, for each $i = 1, \\dots, N$ and $k = 1, \\dots, K$, \n",
    "$$\n",
    "\\text{log-likelihood}[i,k] = \\log{\\pi_k}+\\log{\\cal{N}(x_i|\\mu_k, \\Sigma_k)}\n",
    "$$\n",
    "\n",
    "**Hints:**\n",
    "- If you encounter \"ZeroDivisionError\" or \"RuntimeWarning: divide by zero encountered in log\", you can mitigate your number/array by summing a small value before taking the operation, e.g. $\\text{log-likelihood}[i,k] = \\log{(\\pi_k + \\text{1e-32})}+\\log{(\\cal{N}(x_i|\\mu_k, \\Sigma_k) + \\text{1e-32})}$. If you pass the local test cases but fail the autograder, make sure you sum a small value like the example we given.  \n",
    "- You need to use the Multivariate Normal PDF function you created in the last part. Remember the PDF function is for each Gaussian Distribution (i.e. for each k) so you need to use a for loop over K. \n",
    "\n"
   ]
  },
  {
   "cell_type": "markdown",
   "metadata": {
    "id": "7EOWVBev_Mv9"
   },
   "source": [
    "### 3.2.3. Setup Iterative steps for EM Algorithm  [5+10 pts]\n",
    "\n",
    "You can find the detail instruction in the above description box. \n",
    "\n",
    "**Hints:**\n",
    "- For E steps, we already get the log-likelihood at _ll_joint() function. This is not the same as responsibilities ($\\tau$), but you should be able to finish this part with just a few lines of code by using _ll_joint() and softmax() defined above. \n",
    "- For undergrads: Try to simplify your calculation for $\\Sigma$ in M steps as you assumed independent components. Make sure you are only taking the diagonal terms of your calculated covariance matrix."
   ]
  },
  {
   "cell_type": "markdown",
   "metadata": {
    "id": "acABZ2wk_Mv-"
   },
   "source": [
    "### Function Tests ###\n",
    "\n",
    "Use these to test if your implementation of functions in GMM work as expected"
   ]
  },
  {
   "cell_type": "code",
   "execution_count": null,
   "metadata": {
    "id": "-AYRHI1s_Mv-"
   },
   "outputs": [],
   "source": [
    "###############################\n",
    "### DO NOT CHANGE THIS CELL ###\n",
    "###############################\n",
    "\n",
    "from gmm import GMM"
   ]
  },
  {
   "cell_type": "code",
   "execution_count": null,
   "metadata": {
    "colab": {
     "base_uri": "https://localhost:8080/"
    },
    "id": "VMuVVgYn_Mv-",
    "outputId": "ae873429-2d1b-4987-913d-749efe0b4a77"
   },
   "outputs": [],
   "source": [
    "###############################\n",
    "### DO NOT CHANGE THIS CELL ###\n",
    "###############################\n",
    "\n",
    "np.random.seed(5)\n",
    "\n",
    "data = np.random.randn(5, 4)\n",
    "my_softmax = GMM(data, 3).softmax(data)\n",
    "expected_softmax = np.array([[0.10782656, 0.04982049, 0.78844897, 0.05390398],\n",
    "       [0.16080479, 0.70138883, 0.05805256, 0.07975382],\n",
    "       [0.39637071, 0.23624673, 0.0996817 , 0.26770086],\n",
    "       [0.21741805, 0.56913777, 0.05890126, 0.15454293],\n",
    "       [0.27040961, 0.54778227, 0.01886611, 0.16294201]])\n",
    "\n",
    "print(\"Your softmax works within the expected range: \", np.allclose(expected_softmax, my_softmax))\n",
    "\n",
    "# test logsumexp utility\n",
    "my_logsumexp = GMM(data, 3).logsumexp(data)\n",
    "expected_logsumexp = np.array([[2.66845878],\n",
    "       [1.93717399],\n",
    "       [1.11300859],\n",
    "       [1.16710435],\n",
    "       [2.4592084 ]])\n",
    "\n",
    "print(\"Your logsumexp works within the expected range: \", np.allclose(expected_logsumexp, my_logsumexp))\n",
    "\n",
    "points = np.random.randn(15, 3)\n",
    "\n",
    "mu = np.array([[-0.69166075, -0.39675353, -0.6871727 ],\n",
    "       [ 0.04221375,  0.58281521, -1.10061918],\n",
    "       [ 1.62434536, -0.61175641, -0.52817175]])\n",
    "\n",
    "sigma = np.array([[[1., 0., 0.],\n",
    "        [0., 1., 0.],\n",
    "        [0., 0., 1.]],\n",
    "       [[1., 0., 0.],\n",
    "        [0., 1., 0.],\n",
    "        [0., 0., 1.]],\n",
    "       [[1., 0., 0.],\n",
    "        [0., 1., 0.],\n",
    "        [0., 0., 1.]]])\n",
    "\n",
    "pi = np.ones(3)/3"
   ]
  },
  {
   "cell_type": "code",
   "execution_count": null,
   "metadata": {
    "colab": {
     "base_uri": "https://localhost:8080/"
    },
    "id": "eYB4Dpzm_Mv_",
    "outputId": "1be9fc28-dfe5-4809-a341-541c3c7a1e6c"
   },
   "outputs": [],
   "source": [
    "###############################\n",
    "### DO NOT CHANGE THIS CELL ###\n",
    "###############################\n",
    "\n",
    "# For undergrads\n",
    "\n",
    "# test normalPDF\n",
    "my_normalpdf = GMM(points, 3).normalPDF(points, mu[0], sigma[0])\n",
    "expected_normal_pdf = np.array([0.05385474, 0.00871279, 0.03771877, 0.02631223, 0.039282  ,\n",
    "       0.00442542, 0.00722764, 0.03184208, 0.00181295, 0.02640811,\n",
    "       0.00471099, 0.01150689, 0.00063621, 0.01147473, 0.02380852])\n",
    "\n",
    "print(\"Your normal pdf works within the expected range: \", np.allclose(expected_normal_pdf, my_normalpdf))\n",
    "\n",
    "\n",
    "# test ll-joint\n",
    "my_lljoint = GMM(points, 3)._ll_joint(pi, mu, sigma,False)\n",
    "expected_lljoint = np.array([[ -4.02007719,  -5.44099343,  -7.3374222 ],\n",
    "       [ -5.84157502,  -5.69251151,  -8.01291517],\n",
    "       [ -4.37620973,  -4.91245496,  -5.25244293],\n",
    "       [ -4.73633379,  -3.99850407,  -6.34444602],\n",
    "       [ -4.33560118,  -4.63992545,  -5.42838328],\n",
    "       [ -6.51900277,  -6.91677702,  -6.86391589],\n",
    "       [ -6.02845446,  -4.65853011,  -7.70587119],\n",
    "       [ -4.5455788 ,  -5.16685045,  -6.70899907],\n",
    "       [ -7.4114131 ,  -6.64144377,  -7.97545579],\n",
    "       [ -4.73269633,  -4.8801069 ,  -4.6231013 ],\n",
    "       [ -6.45646958,  -4.88294659,  -4.53086302],\n",
    "       [ -5.56342186,  -7.33396705,  -7.94493792],\n",
    "       [ -8.45858816,  -6.81718207, -10.18015438],\n",
    "       [ -5.56622065,  -6.52577609,  -6.12075969],\n",
    "       [ -4.83632403,  -6.27755579,  -6.21813739]])\n",
    "\n",
    "print(\"Your lljoint works within the expected range: \", np.allclose(my_lljoint, expected_lljoint))\n",
    "\n",
    "# test E step\n",
    "my_estep = GMM(points, 3)._E_step(pi, mu, sigma, False)\n",
    "expected_estep = np.array([[0.78263086, 0.1889996 , 0.02836954],\n",
    "       [0.43960461, 0.5102696 , 0.05012579],\n",
    "       [0.49967803, 0.29228189, 0.20804008],\n",
    "       [0.30379836, 0.63536137, 0.06084027],\n",
    "       [0.482415  , 0.35583974, 0.16174526],\n",
    "       [0.4201512 , 0.28226332, 0.29758548],\n",
    "       [0.1952397 , 0.76827858, 0.03648172],\n",
    "       [0.60525648, 0.32518058, 0.06956295],\n",
    "       [0.26819685, 0.57922475, 0.1525784 ],\n",
    "       [0.33570952, 0.28969704, 0.37459344],\n",
    "       [0.0788462 , 0.38032345, 0.54083035],\n",
    "       [0.79198478, 0.13482761, 0.07318761],\n",
    "       [0.15769863, 0.81410708, 0.02819429],\n",
    "       [0.51088176, 0.19569997, 0.29341827],\n",
    "       [0.67215193, 0.15905541, 0.16879265]])\n",
    "\n",
    "print(\"Your E step works within the expected range: \", np.allclose(my_estep, expected_estep))\n",
    "\n",
    "# test M step\n",
    "my_pi, my_mu, my_sigma = GMM(points, 3)._M_step(expected_estep, False)\n",
    "expected_pi = np.array([0.43628293, 0.394094  , 0.16962307])\n",
    "expected_mu = np.array([[-0.22485851, -0.06104529,  0.33535978],\n",
    "        [ 0.00642446,  0.72356306,  0.19284601],\n",
    "        [ 0.36429099,  0.01967377,  0.11272403]])\n",
    "expected_sigma = np.array([[[0.20711668, 0.        , 0.        ],\n",
    "        [0.        , 0.58982465, 0.        ],\n",
    "        [0.        , 0.        , 0.51253382]],\n",
    "\n",
    "       [[0.22612501, 0.        , 0.        ],\n",
    "        [0.        , 0.88759053, 0.        ],\n",
    "        [0.        , 0.        , 0.54600949]],\n",
    "\n",
    "       [[0.38012959, 0.        , 0.        ],\n",
    "        [0.        , 0.35395325, 0.        ],\n",
    "        [0.        , 0.        , 0.846592  ]]])\n",
    "print(\"Your M step works within the expected range: \", np.allclose(my_pi, expected_pi) and np.allclose(my_mu, expected_mu) and np.allclose(my_sigma, expected_sigma))"
   ]
  },
  {
   "cell_type": "code",
   "execution_count": null,
   "metadata": {
    "colab": {
     "base_uri": "https://localhost:8080/"
    },
    "id": "OLsPpJKK_Mv_",
    "outputId": "7ca97408-896d-48c9-c8a4-cf4a949fb91b"
   },
   "outputs": [],
   "source": [
    "###############################\n",
    "### DO NOT CHANGE THIS CELL ###\n",
    "###############################\n",
    "\n",
    "# For grads\n",
    "\n",
    "# # test mutlinormalPDF\n",
    "sigma_grad = np.array([[[0.30792796,  0.07909229, -0.11016917],\n",
    "        [0.07909229,  0.86422655,  0.06975468],\n",
    "        [-0.11016917,  0.06975468,  0.63212106]],\n",
    "\n",
    "       [[0.30792796,  0.07909229, -0.11016917],\n",
    "        [0.07909229,  0.86422655,  0.06975468],\n",
    "        [-0.11016917,  0.06975468,  0.63212106]],\n",
    "\n",
    "       [[0.30792796,  0.07909229, -0.11016917],\n",
    "        [0.07909229,  0.86422655,  0.06975468],\n",
    "        [-0.11016917,  0.06975468,  0.63212106]]])\n",
    "my_multinormalpdf = GMM(data, 3).multinormalPDF(points, mu[0], sigma_grad[0])\n",
    "expected_multinormal_pdf = np.array([1.24124610e-01, 1.09187066e-02, 2.83199962e-02, 4.84688341e-02,\n",
    "       3.96140713e-02, 3.55094160e-04, 1.15479475e-02, 5.06551884e-02,\n",
    "       3.37348839e-04, 6.34219531e-03, 1.20587696e-04, 8.14168432e-03,\n",
    "       5.76457373e-04, 1.82882581e-03, 1.49926366e-02])\n",
    "\n",
    "print(\"Your multinormal pdf works within the expected range: \", np.allclose(expected_multinormal_pdf, my_multinormalpdf))\n",
    "\n",
    "\n",
    "# test ll-joint\n",
    "sigma_now = sigma * 0.5\n",
    "my_lljoint = GMM(points, 3)._ll_joint(pi, mu, sigma_now, True)\n",
    "expected_lljoint = np.array([[ -3.14500571,  -5.9868382 ,  -9.77969574],\n",
    "       [ -6.78800137,  -6.48987436, -11.13068168],\n",
    "       [ -3.85727081,  -4.92976126,  -5.6097372 ],\n",
    "       [ -4.57751893,  -3.10185949,  -7.79374338],\n",
    "       [ -3.7760537 ,  -4.38470224,  -5.9616179 ],\n",
    "       [ -8.14285688,  -8.93840538,  -8.83268311],\n",
    "       [ -7.16176025,  -4.42191156, -10.51659372],\n",
    "       [ -4.19600894,  -5.43855224,  -8.52284947],\n",
    "       [ -9.92767754,  -8.38773887, -11.05576292],\n",
    "       [ -4.570244  ,  -4.86506515,  -4.35105393],\n",
    "       [ -8.01779049,  -4.87074452,  -4.16657737],\n",
    "       [ -6.23169506,  -9.77278544, -10.99472719],\n",
    "       [-12.02202766,  -8.73921549, -15.46516011],\n",
    "       [ -6.23729264,  -8.15640353,  -7.34637072],\n",
    "       [ -4.77749941,  -7.65996291,  -7.54112612]])\n",
    "\n",
    "print(\"Your lljoint works within the expected range: \", np.allclose(my_lljoint, expected_lljoint))\n",
    "\n",
    "\n",
    "# test E step\n",
    "my_estep = GMM(points, 3)._E_step(pi, mu, sigma_now, True)\n",
    "expected_estep = np.array([[0.94372325, 0.05503671, 0.00124004],\n",
    "       [0.42366876, 0.57082286, 0.00550839],\n",
    "       [0.65984771, 0.22577041, 0.11438188],\n",
    "       [0.18470545, 0.80788672, 0.00740783],\n",
    "       [0.60368247, 0.32845499, 0.06786254],\n",
    "       [0.5120336 , 0.23109797, 0.25686843],\n",
    "       [0.06053431, 0.93735212, 0.00211357],\n",
    "       [0.76813271, 0.22172086, 0.01014643],\n",
    "       [0.16700188, 0.77894757, 0.05405055],\n",
    "       [0.33447807, 0.24907403, 0.4164479 ],\n",
    "       [0.01402184, 0.3262493 , 0.65972887],\n",
    "       [0.96383555, 0.0279336 , 0.00823084],\n",
    "       [0.0361238 , 0.96272152, 0.00115468],\n",
    "       [0.67723134, 0.09937515, 0.22339351],\n",
    "       [0.8936077 , 0.05003903, 0.05635326]])\n",
    "\n",
    "\n",
    "print(\"Your E step works within the expected range: \", np.allclose(my_estep, expected_estep))\n",
    "\n",
    "# test M step\n",
    "my_pi, my_mu, my_sigma = GMM(points, 3)._M_step(expected_estep, True)\n",
    "expected_pi = np.array([0.4828419 , 0.39149886, 0.12565925])\n",
    "expected_mu = np.array([[-0.26263543, -0.23026888,  0.37410807],\n",
    "        [ 0.02946666,  0.96190945,  0.19697914],\n",
    "        [ 0.64855787, -0.0282273 , -0.12987796]])\n",
    "expected_sigma = np.array([[[ 0.18480413,  0.08971316,  0.08911991],\n",
    "         [ 0.08971316,  0.36907686,  0.08744919],\n",
    "         [ 0.08911991,  0.08744919,  0.48008412]],\n",
    " \n",
    "        [[ 0.17533767, -0.0757907 , -0.08561511],\n",
    "         [-0.0757907 ,  0.73833814,  0.16291358],\n",
    "         [-0.08561511,  0.16291358,  0.52631415]],\n",
    " \n",
    "        [[ 0.35145756,  0.10609808, -0.51519293],\n",
    "         [ 0.10609808,  0.15893304, -0.08535478],\n",
    "         [-0.51519293, -0.08535478,  0.99893729]]])\n",
    "print(\"Your M step works within the expected range: \", np.allclose(my_pi, expected_pi) and np.allclose(my_mu, expected_mu) and np.allclose(my_sigma, expected_sigma))"
   ]
  },
  {
   "cell_type": "markdown",
   "metadata": {
    "id": "hBt48eRG_MwA"
   },
   "source": [
    "## 3.3 Image Compression and pixel clustering [10pts] \n",
    "\n",
    "Images typically need a lot of bandwidth to be transmitted over the network. In order to optimize this process, most image processors perform lossy compression of images (lossy implies some information is lost in the process of compression).\n",
    "\n",
    "In this section, you will use your GMM algorithm implementation to do pixel clustering and compress the images. That is to say, you would develop a lossy image compression algorithm. \n",
    "(Hint: you can adjust the number of clusters formed and justify your answer based on visual inspection of the resulting images or on a different metric of your choosing)\n",
    "\n",
    "\n",
    "**Special Notes**\n",
    "- Try to add a small value(e.g. SIGMA_CONST and LOG_CONST) before taking the operation if the output image is solid black.\n",
    "- The output images may be slightly different due to different initialization methods in GMM() function. \n",
    "    \n",
    "\n",
    "#### You do NOT need to submit your code for this question to the autograder. Instead you should include whatever images/information you find relevant in the report.\n"
   ]
  },
  {
   "cell_type": "code",
   "execution_count": null,
   "metadata": {
    "id": "cwDIjTtr_MwA"
   },
   "outputs": [],
   "source": [
    "###############################\n",
    "### DO NOT CHANGE THIS CELL ###\n",
    "###############################\n",
    "\n",
    "# helper function for performing pixel clustering. \n",
    "def cluster_pixels_gmm(image, K, full_matrix = True):\n",
    "    \"\"\"Clusters pixels in the input image\n",
    "    \n",
    "    Args:\n",
    "        image: input image of shape(H, W, 3)\n",
    "        K: number of components\n",
    "    Return:\n",
    "        clustered_img: image of shape(H, W, 3) after pixel clustering\n",
    "    \"\"\"\n",
    "    im_height, im_width, im_channel = image.shape\n",
    "    flat_img = np.reshape(image, [-1, im_channel]).astype(np.float32)\n",
    "    gamma, (pi, mu, sigma) = GMM(flat_img, K = K, max_iters = 10)(full_matrix)\n",
    "    cluster_ids = np.argmax(gamma, axis=1)\n",
    "    centers = mu\n",
    "\n",
    "    gmm_img = np.reshape(centers[cluster_ids], (im_height, im_width, im_channel))\n",
    "    \n",
    "    return gmm_img\n",
    "\n",
    "# helper function for plotting images. You don't have to modify it\n",
    "def plot_images(img_list, title_list, figsize=(20, 10)):\n",
    "    assert len(img_list) == len(title_list)\n",
    "    fig, axes = plt.subplots(1, len(title_list), figsize=figsize)\n",
    "    for i, ax in enumerate(axes):\n",
    "        ax.imshow(img_list[i] / 255.0)\n",
    "        ax.set_title(title_list[i])\n",
    "        ax.axis('off')"
   ]
  },
  {
   "cell_type": "code",
   "execution_count": null,
   "metadata": {
    "colab": {
     "base_uri": "https://localhost:8080/",
     "height": 1000
    },
    "id": "oL9sGASK_MwA",
    "outputId": "7c3601cb-105f-4319-81c1-4d7f073d4035",
    "scrolled": false
   },
   "outputs": [],
   "source": [
    "%%time\n",
    "# the direction of two images. Both of them are from ImageNet\n",
    "img1_dir ='./data/images/gmm-example1.png'\n",
    "img2_dir ='./data/images/gmm-example2.png'\n",
    "\n",
    "# example of loading image \n",
    "image1 = imageio.imread('./data/images/gmm-example1.png')\n",
    "\n",
    "# this is for you to implement\n",
    "def perform_compression(image, min_clusters=5, max_clusters=15):\n",
    "    \"\"\"\n",
    "    Using the helper function above to find the optimal number of clusters that can appropriately produce a single image.\n",
    "    You can simply examinate the answer based on your visual inspection (i.e. looking at the resulting images) or provide any metrics you prefer. \n",
    "    \n",
    "    Args:\n",
    "        image: input image of shape(H, W, 3)\n",
    "        min_clusters, max_clusters: the minimum and maximum number of clusters you should test with. Default are 5 and 15.\n",
    "        (Usually the maximum number of clusters would not exeed 15)\n",
    "        \n",
    "    Return:\n",
    "        plot: comparison between original image and image pixel clustering.\n",
    "        optional: any other information/metric/plot you think is necessary.\n",
    "    \"\"\"\n",
    "    raise NotImplementedError\n",
    "\n",
    "\n",
    "image1 = imageio.imread(img1_dir)\n",
    "perform_compression(image1, 5, 10)\n",
    "\n",
    "image2 = imageio.imread(img2_dir)\n",
    "perform_compression(image2, 5, 10)"
   ]
  },
  {
   "cell_type": "markdown",
   "metadata": {
    "id": "lfUa5dql_MwB"
   },
   "source": [
    "## 3.4 Compare full covariance matrix with diagonal covariance matrix(Bonus for all) [5 pts]\n",
    "Compare full covariance matrix with diagonal covariance matrix. Can you explain why the images are different with same clusters?\n",
    "Note: You will have to implement both multinormalPDF and normalPDF, and add a few arguments in the original _ll_joint(), _M\\_step(), _E\\_step() function. You will earn full credit only if you implement all functions AND explain the reason."
   ]
  },
  {
   "cell_type": "code",
   "execution_count": null,
   "metadata": {
    "id": "qN8YMc3I_MwB"
   },
   "outputs": [],
   "source": [
    "###############################\n",
    "### DO NOT CHANGE THIS CELL ###\n",
    "###############################\n",
    "\n",
    "def compare_matrix(image, K):\n",
    "    \"\"\"\n",
    "    Args:\n",
    "        image: input image of shape(H, W, 3)\n",
    "        K: number of components\n",
    "        \n",
    "    Return:\n",
    "        plot: comparison between full covariance matrix and diagonal covariance matrix.\n",
    "    \"\"\"\n",
    "    #full covariance matrix\n",
    "    gmm_image_full = cluster_pixels_gmm(image, K, full_matrix = True)\n",
    "    #diagonal covariance matrix\n",
    "    gmm_image_diag = cluster_pixels_gmm(image, K, full_matrix = False)\n",
    "    \n",
    "    plot_images([gmm_image_full, gmm_image_diag], ['full covariance matrix', 'diagonal covariance matrix'])"
   ]
  },
  {
   "cell_type": "code",
   "execution_count": null,
   "metadata": {
    "colab": {
     "base_uri": "https://localhost:8080/",
     "height": 589
    },
    "id": "uVQU4PL4_MwB",
    "outputId": "934bca01-3457-46fe-f8a0-d5cca902978d",
    "scrolled": false
   },
   "outputs": [],
   "source": [
    "compare_matrix(image1, 5)"
   ]
  },
  {
   "cell_type": "markdown",
   "metadata": {
    "id": "NhVsVVOA_MwB"
   },
   "source": [
    "## 4. (Bonus for All) Cleaning Messy data with semi-supervised learning [30pts]\n",
    "\n",
    "Learning to work with messy data is a hallmark of a well-rounded data scientist. In most real-world settings the data given will usually have some issue, so it is important to learn skills to work around such impasses. This part of the assignment looks to expose you to clever ways to fix data using concepts that you have already learned in the prior questions.\n",
    "\n",
    "#### Question\n",
    "\n",
    "After graduating from Georgia Tech with your shiny new degree, you are recruited to help with safety testing for the Mars rocket at NASA. Of course NASA won't be sending rocket after rocket to stress test your fellow employees' engineering (they also graduated from Tech, so you have full confidence in them), so instead, NASA has decided to run numerous simulations on the current engineering design of the Mars rocket. The simulation collects shuttle data from its sensors, resulting in 8 features which include bypass, rad flow, etc. These features are contained within the first through eighth columns. The ninth column shows the label with 1 being a successful simulation and 0 being an unsuccessful simulation. \n",
    "\n",
    "However, due to an intern accidentally deleting random data points, 20% of the entries are missing labels and 30% are missing characterization data. Since simply removing the corrupted entries would not reflect the true variance of the data, your job is to implement a solution to clean the data so it can be properly classified. \n",
    "\n",
    "Your job is to assist NASA in cleaning the data and implementing a semi-supervised learning framework to help them create a general classifier for future simulations.\n",
    "\n",
    "You are given two files for this task:\n",
    "* data.csv: the entire dataset with complete and incomplete data\n",
    "* validation.csv: a smaller, fully complete dataset made after after the intern deleted the datapoints"
   ]
  },
  {
   "cell_type": "markdown",
   "metadata": {
    "id": "XNi4X5bk_MwB"
   },
   "source": [
    "### 4.1.a Data Separating [3pts]\n",
    "The first step is to break up the whole dataset into clear parts. All the data is randomly shuffled in one csv file. In order to move forward, the data needs to be split into three separate arrays: \n",
    "* labeled_complete: containing the complete characterization data and corresponding labels \n",
    "* labeled_incomplete: containing partial characterization data (i.e., one of the features is NaN) and corresponding labels\n",
    "* unlabeled_complete: containing complete characterization data but no corresponding labels (i.e., the label is NaN)"
   ]
  },
  {
   "cell_type": "code",
   "execution_count": null,
   "metadata": {
    "id": "AjLsx3w9_MwB"
   },
   "outputs": [],
   "source": [
    "###############################\n",
    "### DO NOT CHANGE THIS CELL ###\n",
    "###############################\n",
    "\n",
    "from semisupervised import complete_\n",
    "from semisupervised import incomplete_\n",
    "from semisupervised import unlabeled_"
   ]
  },
  {
   "cell_type": "code",
   "execution_count": null,
   "metadata": {
    "id": "oKXYgzvc_MwC",
    "outputId": "7b99134a-19d8-4759-ea33-bc8aa7b64439"
   },
   "outputs": [],
   "source": [
    "###############################\n",
    "### DO NOT CHANGE THIS CELL ###\n",
    "###############################\n",
    "\n",
    "def test_data_separating_methods(complete_, incomplete_, unlabeled_):\n",
    "    \"\"\"\n",
    "    Test data separating methods\n",
    "    Args:\n",
    "        complete_, incomplete_, unlabeled_ methods\n",
    "    \"\"\"\n",
    "    data = np.array([\n",
    "        [1.,    2.,     3.,     1],\n",
    "        [1.,    np.nan, 3.,     1],\n",
    "        [7.,    np.nan, 9.,     0],\n",
    "        [7.,    8.,     9.,     0],\n",
    "        [26.,   27.,    28.,    np.nan],\n",
    "        [2.,    3.,     4.,     np.nan],\n",
    "        [16.,   17.,    18.,    1],\n",
    "        [np.nan,17.,    18.,    1],\n",
    "        [11.,   12.,    13.,    np.nan],\n",
    "        [12.,   np.nan, 14.,    np.nan],\n",
    "        [22.,   23.,    24.,    0],\n",
    "        [np.nan,23.,    24.,    0],\n",
    "        [19.,   20.,    21.,    np.nan]\n",
    "    ])\n",
    "    complete_answer = np.array([[ 1.,  2.,  3.,  1.],[ 7.,  8.,  9.,  0.],[16., 17., 18.,  1.],[22., 23., 24.,  0.]])\n",
    "    incomplete_answer = np.array([[ 1., np.nan,  3.,  1.],[ 7., np.nan,  9.,  0.],[np.nan, 17., 18.,  1.],[np.nan, 23., 24.,  0.]])\n",
    "    unlabeled_answer = np.array([[26., 27., 28., np.nan],[ 2.,  3.,  4., np.nan],[11., 12., 13., np.nan],[19., 20., 21., np.nan]])\n",
    "\n",
    "    my_complete = complete_(data)\n",
    "    my_incomplete = incomplete_(data)\n",
    "    my_unlabeled = unlabeled_(data)\n",
    "\n",
    "    assert my_complete.shape == complete_answer.shape, f\"My complete data shape: {my_complete.shape}; Expected complete data shape: {complete_answer.shape}\"\n",
    "    assert np.all(np.isclose(my_complete, complete_answer, equal_nan=True)), f\"My complete data:\\n{my_complete}\\nExpected complete data:\\n{complete_answer}\"\n",
    "    print(\"complete_ method:   Working :)\")\n",
    "    assert my_incomplete.shape == incomplete_answer.shape, f\"My incomplete data shape: {my_incomplete.shape}; Expected incomplete data shape: {incomplete_answer.shape}\"\n",
    "    assert np.all(np.isclose(my_incomplete, incomplete_answer, equal_nan=True)), f\"My incomplete data:\\n{my_incomplete}\\nExpected incomplete data:\\n{incomplete_answer}\"\n",
    "    print(\"incomplete_ method: Working :)\")\n",
    "    assert my_unlabeled.shape == unlabeled_answer.shape, f\"My unlabeled data shape: {my_unlabeled.shape}; Expected unlabeled data shape: {unlabeled_answer.shape}\"\n",
    "    assert np.all(np.isclose(my_unlabeled, unlabeled_answer, equal_nan=True)), f\"My unlabeled data:\\n{my_unlabeled}\\nExpected unlabeled data:\\n{unlabeled_answer}\"\n",
    "    print(\"unlabeled_ method:  Working :)\")\n",
    "\n",
    "\n",
    "test_data_separating_methods(complete_, incomplete_, unlabeled_)"
   ]
  },
  {
   "cell_type": "markdown",
   "metadata": {
    "id": "CoW4bOY1_MwC"
   },
   "source": [
    "### 4.1.b KNN [7pts]\n",
    "The second step in this task is to clean the Labeled_incomplete dataset by filling in the missing values with probable ones derived from complete data. A useful approach to this type of problem is using a k-nearest neighbors (k-NN) algorithm. For this application, the method consists of replacing the missing value of a given point with the mean of the closest k-neighbors to that point."
   ]
  },
  {
   "cell_type": "code",
   "execution_count": null,
   "metadata": {
    "id": "xwN52BEe_MwC"
   },
   "outputs": [],
   "source": [
    "###############################\n",
    "### DO NOT CHANGE THIS CELL ###\n",
    "###############################\n",
    "\n",
    "from semisupervised import CleanData"
   ]
  },
  {
   "cell_type": "markdown",
   "metadata": {
    "id": "paq2V-yu_MwC"
   },
   "source": [
    "Below is a good expectation of what the process should look like on a toy dataset. If your output matches the answer below, you are on the right track. \n",
    "\n",
    "NOTE: Your rows of data should match with the expected output, although the order of the rows does not necessarily matter."
   ]
  },
  {
   "cell_type": "code",
   "execution_count": null,
   "metadata": {
    "id": "PZ0M7oKV_MwC",
    "outputId": "e918a1e2-206e-44f2-ccf7-f17b3bf20fc8"
   },
   "outputs": [],
   "source": [
    "###############################\n",
    "### DO NOT CHANGE THIS CELL ###\n",
    "###############################\n",
    "\n",
    "def test_cleandata(knn_cleaner):\n",
    "    \"\"\" \n",
    "    Test CleanData implementation\n",
    "    Args:\n",
    "        knn_cleaner: CleanData object\n",
    "    \"\"\"\n",
    "\n",
    "    complete_data = np.array([[1.,2.,3.,1],[7.,8.,9.,0],[16.,17.,18.,1],[22.,23.,24.,0]])\n",
    "    incomplete_data = np.array([[1.,np.nan,3.,1],[7.,np.nan,9.,0],[np.nan,17.,18.,1],[np.nan,23.,24.,0]])\n",
    "    correct_clean_data = np.array([\n",
    "        [ 1.   ,2.   ,3.   ,1. ],\n",
    "        [ 7.   ,8.   ,9.   ,0. ],\n",
    "        [16.  ,17.  ,18.   ,1. ],\n",
    "        [22.  ,23.  ,24.   ,0. ],\n",
    "        [14.5 ,23.  ,24.   ,0. ],\n",
    "        [ 7.  ,15.5  ,9.   ,0. ],\n",
    "        [ 8.5 ,17.  ,18.   ,1. ],\n",
    "        [ 1.   ,9.5  ,3.   ,1. ]\n",
    "    ])\n",
    "    clean_data = knn_cleaner(incomplete_data, complete_data, 2)\n",
    "    assert clean_data.shape == correct_clean_data.shape, f\"My cleaned data shape: {clean_data.shape}; Expected cleaned data shape: {correct_clean_data.shape}\"\n",
    "    if np.all(np.isclose(clean_data, correct_clean_data)):\n",
    "        print(\"CleanData: working :)\"); return\n",
    "    clean_data_sorted = np.array(sorted([tuple(row) for row in clean_data]))\n",
    "    correct_clean_data_sorted = np.array(sorted([tuple(row) for row in correct_clean_data]))\n",
    "    assert np.all(np.allclose(clean_data_sorted, correct_clean_data_sorted)), f\"My cleaned data (sorted):\\n{clean_data_sorted}\\nExpected cleaned data (sorted):\\n{correct_clean_data_sorted}\"\n",
    "    print(\"CleanData: working :)\")\n",
    "\n",
    "test_cleandata(CleanData())"
   ]
  },
  {
   "cell_type": "markdown",
   "metadata": {
    "id": "3xqpO5wU_MwD"
   },
   "source": [
    "### 4.2 Getting acquainted with semi-supervised learning approaches. [5pts]\n",
    "\n",
    "You will implement a version of the algorithm presented in Table 1 of the paper [\"Text Classification from Labeled and Unlabeled Documents using EM\"](http://www.kamalnigam.com/papers/emcat-mlj99.pdf) by Nigam et al. (2000). While you are recommended to read the whole paper this assignment focuses on items 5.2 and 6.1. Write a brief summary of three interesting highlights of the paper (50-word maximum).\n",
    "\n"
   ]
  },
  {
   "cell_type": "markdown",
   "metadata": {
    "id": "47oHreu7_MwD"
   },
   "source": [
    "### 4.3 Implementing the EM algorithm. [10 pts]\n",
    "In your implementation of the EM algorithm proposed by Nigam et al. (2000) on Table 1, you will use a Gaussian Naive Bayes (GNB) classifier as opposed to a naive Bayes (NB) classifier. (Hint: Using a GNB in place of an NB will enable you to reuse most of the implementation you developed for GMM in this assignment. In fact, you can successfully solve the problem by simply modifying the call and _init_components methods.)"
   ]
  },
  {
   "cell_type": "code",
   "execution_count": null,
   "metadata": {
    "id": "pCzvmPPG_MwD"
   },
   "outputs": [],
   "source": [
    "###############################\n",
    "### DO NOT CHANGE THIS CELL ###\n",
    "###############################\n",
    "\n",
    "from semisupervised import SemiSupervised"
   ]
  },
  {
   "cell_type": "markdown",
   "metadata": {
    "id": "-vmUAYXN_MwD"
   },
   "source": [
    "### 4.4 Demonstrating the performance of the algorithm. [5pts]\n",
    "Compare the classification error based on the Gaussian Naive Bayes (GNB) classifier you implemented following the Nigam et al. (2000) approach to the performance of a GNB classifier trained using only labeled data. Since you have not covered supervised learning in class, you are allowed to use the scikit learn library for training the GNB classifier based only on labeled data: https://scikit-learn.org/stable/modules/generated/sklearn.naive_bayes.GaussianNB.html.\n",
    "\n",
    "To acheive the full 5 points you must implement the `ComparePerformance.accuracy_semi_supervised` and `ComparePerformance.accuracy_GNB` methods and get these scores:\n",
    "* accuracy_complete_data_only > .87 \n",
    "* accuracy_cleaned_data > .87\n",
    "* accuracy_semi_supervised > 87% "
   ]
  },
  {
   "cell_type": "code",
   "execution_count": null,
   "metadata": {
    "id": "25JoKgo7_MwD"
   },
   "outputs": [],
   "source": [
    "###############################\n",
    "### DO NOT CHANGE THIS CELL ###\n",
    "###############################\n",
    "\n",
    "from semisupervised import ComparePerformance"
   ]
  },
  {
   "cell_type": "code",
   "execution_count": null,
   "metadata": {
    "id": "ysS1zMpX_MwD",
    "outputId": "68213a00-3a0e-435c-b42e-374a0d7d22ca"
   },
   "outputs": [],
   "source": [
    "%%time\n",
    "###############################\n",
    "### DO NOT CHANGE THIS CELL ###\n",
    "###############################\n",
    "\n",
    "# Load training data\n",
    "all_data = np.loadtxt('data/data.csv', delimiter=',')\n",
    "\n",
    "# Separate training data into categories: labeled complete, labeled incomplete, and unlabeled points\n",
    "labeled_complete = complete_(all_data)\n",
    "labeled_incomplete = incomplete_(all_data)\n",
    "unlabeled = unlabeled_(all_data)\n",
    "\n",
    "# Perform data cleaning on labeled incomplete data \n",
    "cleaned_data = CleanData()(labeled_incomplete, labeled_complete, 10)\n",
    "\n",
    "# Combine cleaned data with unlabeled data\n",
    "cleaned_and_unlabeled = np.concatenate((cleaned_data, unlabeled), 0)\n",
    "\n",
    "# Print data shapes\n",
    "print(f\"All Data shape:                 {all_data.shape}\")\n",
    "print(f\"Labeled Complete shape:         {labeled_complete.shape}\")\n",
    "print(f\"Labeled Incomplete shape:       {labeled_incomplete.shape}\")\n",
    "print(f\"Unlabeled shape:                {unlabeled.shape}\")\n",
    "print(f\"Cleaned data shape:             {cleaned_data.shape}\")\n",
    "print(f\"Cleaned + Unlabeled data shape: {cleaned_and_unlabeled.shape}\")\n",
    "\n",
    "# load validation data\n",
    "validation = np.loadtxt('data/validation.csv', delimiter=',')\n",
    "\n",
    "# =========================================================================\n",
    "# SUPERVISED GNB WITH ONLY THE COMPLETE DATA (SKLEARN)\n",
    "accuracy_complete_data_only = ComparePerformance.accuracy_GNB(labeled_complete, validation)\n",
    "# =========================================================================\n",
    "# SUPERVISED GNB WITH CLEAN DATA (SKLEARN)\n",
    "accuracy_cleaned_data = ComparePerformance.accuracy_GNB(cleaned_data, validation)\n",
    "# =========================================================================\n",
    "# SEMI SUPERVISED GNB WITH ALL DATA (your implementation)\n",
    "accuracy_semi_supervised = ComparePerformance.accuracy_semi_supervised(cleaned_and_unlabeled, validation, 2)\n",
    "# ==========================================================================\n",
    "# COMPARISON\n",
    "print(\"\"\"===COMPARISON===\"\"\")\n",
    "print(f\"Supervised with only complete data, GNB Accuracy: {np.round(100.0 * accuracy_complete_data_only, 3)}%\")\n",
    "print(f\"Supervised with clean data, GNB Accuracy:         {np.round(100.0 * accuracy_cleaned_data, 3)}%\")\n",
    "print(f\"SemiSupervised Accuracy:                          {np.round(100.0 * accuracy_semi_supervised, 3)}%\")"
   ]
  }
 ],
 "metadata": {
  "colab": {
   "collapsed_sections": [
    "xuEnlmN4_Mv5",
    "OYMGmHnb_Mv5",
    "AsQ451om_Mv6",
    "F6RKWYnT_Mv6",
    "B5lmW2uC_Mv6",
    "fKoOWjNL_Mv6",
    "vEH3Rq6I_Mv7",
    "Ig0zfoum_Mv8",
    "Cj-SyonU_Mv9",
    "nVoCLl_3_Mv9",
    "7EOWVBev_Mv9",
    "XNi4X5bk_MwB",
    "CoW4bOY1_MwC",
    "3xqpO5wU_MwD",
    "47oHreu7_MwD",
    "-vmUAYXN_MwD"
   ],
   "name": "SUMMER2022_HW2_Solutions.ipynb",
   "provenance": []
  },
  "interpreter": {
   "hash": "371294a8f580372cda8a555fe0386cf2b270ba28c88268790cb700ff2771ecf8"
  },
  "kernelspec": {
   "display_name": "Python 3",
   "language": "python",
   "name": "python3"
  },
  "language_info": {
   "codemirror_mode": {
    "name": "ipython",
    "version": 3
   },
   "file_extension": ".py",
   "mimetype": "text/x-python",
   "name": "python",
   "nbconvert_exporter": "python",
   "pygments_lexer": "ipython3",
   "version": "3.8.5"
  }
 },
 "nbformat": 4,
 "nbformat_minor": 1
}
