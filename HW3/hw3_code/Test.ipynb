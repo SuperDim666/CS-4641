{
 "cells": [
  {
   "cell_type": "code",
   "execution_count": 1,
   "metadata": {},
   "outputs": [],
   "source": [
    "import numpy as np"
   ]
  },
  {
   "cell_type": "code",
   "execution_count": null,
   "metadata": {},
   "outputs": [],
   "source": [
    "    def ridge_fit_GD(self, xtrain, ytrain, c_lambda, epochs=500, learning_rate=1e-7): # [5pts]\n",
    "        \"\"\"\n",
    "        Args:\n",
    "            xtrain: (N,D) numpy array, where N is number \n",
    "                    of instances and D is the dimensionality of each \n",
    "                    instance\n",
    "            ytrain: (N,1) numpy array, the true labels\n",
    "            c_lambda: float value\n",
    "        Return:\n",
    "            weight: (D,1) numpy array, the weights of linear regression model\n",
    "            loss_per_epoch: (epochs,) list of floats, rmse of each epoch\n",
    "        \"\"\"\n",
    "        N, D = xtrain.shape\n",
    "        loss_per_epoch = []\n",
    "        weight = np.zeros((D,1))\n",
    "        c_lambda *= np.ones(weight.shape)\n",
    "        c_lambda[0,0] = 0.0\n",
    "        for i in range(epochs):\n",
    "            xw = np.dot(xtrain, weight)\n",
    "            loss = np.matmul(xtrain.T, ytrain - xw) + c_lambda * weight\n",
    "            loss /= N\n",
    "            weight += learning_rate * loss\n",
    "        return weight, loss_per_epoch\n",
    "        #raise NotImplementedError"
   ]
  },
  {
   "cell_type": "code",
   "execution_count": null,
   "metadata": {},
   "outputs": [],
   "source": [
    "    def linear_fit_GD(self, xtrain, ytrain, epochs=5, learning_rate=0.001): # [5pts]\n",
    "        \"\"\"\n",
    "        Args:\n",
    "            xtrain: (N,D) numpy array, where N is number \n",
    "                    of instances and D is the dimensionality of each \n",
    "                    instance\n",
    "            ytrain: (N,1) numpy array, the true labels\n",
    "        Return:\n",
    "            weight: (D,1) numpy array, the weights of linear regression model\n",
    "            loss_per_epoch: (epochs,) list of floats, rmse of each epoch\n",
    "        \"\"\"\n",
    "        loss_per_epoch = []\n",
    "        N, D = xtrain.shape\n",
    "        weight = np.zeros((D, 1))\n",
    "        for i in range(epochs):\n",
    "            for j in range(N):\n",
    "                xw = np.matmul(xtrain[j:j+1], weight)\n",
    "                grad = np.matmul(xtrain[j:j+1].T, ytrain[j:j+1] - xw)\n",
    "                weight += learning_rate * grad\n",
    "        return weight, loss_per_epoch"
   ]
  }
 ],
 "metadata": {
  "kernelspec": {
   "display_name": "Python 3",
   "language": "python",
   "name": "python3"
  },
  "language_info": {
   "codemirror_mode": {
    "name": "ipython",
    "version": 3
   },
   "file_extension": ".py",
   "mimetype": "text/x-python",
   "name": "python",
   "nbconvert_exporter": "python",
   "pygments_lexer": "ipython3",
   "version": "3.8.5"
  }
 },
 "nbformat": 4,
 "nbformat_minor": 4
}
